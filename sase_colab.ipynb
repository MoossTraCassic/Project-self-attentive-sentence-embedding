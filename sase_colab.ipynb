{
  "nbformat": 4,
  "nbformat_minor": 0,
  "metadata": {
    "colab": {
      "name": "sase_colab.ipynb",
      "provenance": [],
      "authorship_tag": "ABX9TyPayo8SmSTgxnOyRDlciu5o",
      "include_colab_link": true
    },
    "kernelspec": {
      "name": "python3",
      "display_name": "Python 3"
    },
    "accelerator": "GPU"
  },
  "cells": [
    {
      "cell_type": "markdown",
      "metadata": {
        "id": "view-in-github",
        "colab_type": "text"
      },
      "source": [
        "<a href=\"https://colab.research.google.com/github/mlelarge/dataflowr-private/blob/master/sase_colab.ipynb\" target=\"_parent\"><img src=\"https://colab.research.google.com/assets/colab-badge.svg\" alt=\"Open In Colab\"/></a>"
      ]
    },
    {
      "cell_type": "code",
      "metadata": {
        "colab": {
          "base_uri": "https://localhost:8080/"
        },
        "id": "DV76abP-ase3",
        "outputId": "af10020e-b872-41fe-d60f-5023473e7825"
      },
      "source": [
        "!wget https://www.di.ens.fr/~lelarge/small_yelp.zip"
      ],
      "execution_count": 1,
      "outputs": [
        {
          "output_type": "stream",
          "text": [
            "--2021-02-09 14:21:41--  https://www.di.ens.fr/~lelarge/small_yelp.zip\n",
            "Resolving www.di.ens.fr (www.di.ens.fr)... 129.199.99.14\n",
            "Connecting to www.di.ens.fr (www.di.ens.fr)|129.199.99.14|:443... connected.\n",
            "HTTP request sent, awaiting response... 200 OK\n",
            "Length: unspecified [application/zip]\n",
            "Saving to: ‘small_yelp.zip’\n",
            "\n",
            "small_yelp.zip          [    <=>             ]   8.14M  9.54MB/s    in 0.9s    \n",
            "\n",
            "2021-02-09 14:21:43 (9.54 MB/s) - ‘small_yelp.zip’ saved [8533237]\n",
            "\n"
          ],
          "name": "stdout"
        }
      ]
    },
    {
      "cell_type": "code",
      "metadata": {
        "colab": {
          "base_uri": "https://localhost:8080/"
        },
        "id": "Hp-XPRlObmxQ",
        "outputId": "dfefef64-2074-4c5c-a955-aaaf13edc54b"
      },
      "source": [
        "!unzip small_yelp.zip"
      ],
      "execution_count": 2,
      "outputs": [
        {
          "output_type": "stream",
          "text": [
            "Archive:  small_yelp.zip\n",
            "   creating: small/\n",
            "  inflating: small/review_short_tok.json  \n",
            "  inflating: small/test_tok.json     \n",
            "  inflating: small/val_tok.json      \n",
            "  inflating: small/dict_review_short.json  \n",
            "  inflating: small/review_short.json  \n",
            "  inflating: small/train_tok.json    \n"
          ],
          "name": "stdout"
        }
      ]
    },
    {
      "cell_type": "code",
      "metadata": {
        "colab": {
          "base_uri": "https://localhost:8080/"
        },
        "id": "nUb4xgFuEQE5",
        "outputId": "bfb1eff9-8ca5-4456-a712-ef314fc340f1"
      },
      "source": [
        "!wget https://www.di.ens.fr/~lelarge/glove.6B.200d.txt.pt"
      ],
      "execution_count": 3,
      "outputs": [
        {
          "output_type": "stream",
          "text": [
            "--2021-02-09 14:21:43--  https://www.di.ens.fr/~lelarge/glove.6B.200d.txt.pt\n",
            "Resolving www.di.ens.fr (www.di.ens.fr)... 129.199.99.14\n",
            "Connecting to www.di.ens.fr (www.di.ens.fr)|129.199.99.14|:443... connected.\n",
            "HTTP request sent, awaiting response... 200 OK\n",
            "Length: unspecified [text/plain]\n",
            "Saving to: ‘glove.6B.200d.txt.pt’\n",
            "\n",
            "glove.6B.200d.txt.p     [             <=>    ] 315.50M  30.2MB/s    in 11s     \n",
            "\n",
            "2021-02-09 14:21:54 (28.8 MB/s) - ‘glove.6B.200d.txt.pt’ saved [330825607]\n",
            "\n"
          ],
          "name": "stdout"
        }
      ]
    },
    {
      "cell_type": "code",
      "metadata": {
        "colab": {
          "base_uri": "https://localhost:8080/"
        },
        "id": "wQvWRmA2ZK0R",
        "outputId": "25276b89-ff7c-4055-ef3a-c1266f73b703"
      },
      "source": [
        "!git clone https://github.com/dataflowr/self-attentive-sentence-embedding.git"
      ],
      "execution_count": 4,
      "outputs": [
        {
          "output_type": "stream",
          "text": [
            "Cloning into 'self-attentive-sentence-embedding'...\n",
            "remote: Enumerating objects: 30, done.\u001b[K\n",
            "remote: Counting objects: 100% (30/30), done.\u001b[K\n",
            "remote: Compressing objects: 100% (22/22), done.\u001b[K\n",
            "remote: Total 30 (delta 7), reused 20 (delta 4), pack-reused 0\u001b[K\n",
            "Unpacking objects: 100% (30/30), done.\n"
          ],
          "name": "stdout"
        }
      ]
    },
    {
      "cell_type": "code",
      "metadata": {
        "colab": {
          "base_uri": "https://localhost:8080/"
        },
        "id": "38q_1cU6Z3Fs",
        "outputId": "20018ea6-c74e-48f9-f773-2a7750aa60c9"
      },
      "source": [
        "%cd self-attentive-sentence-embedding/"
      ],
      "execution_count": 5,
      "outputs": [
        {
          "output_type": "stream",
          "text": [
            "/content/self-attentive-sentence-embedding\n"
          ],
          "name": "stdout"
        }
      ]
    },
    {
      "cell_type": "code",
      "metadata": {
        "colab": {
          "base_uri": "https://localhost:8080/"
        },
        "id": "1um1Wb-xZ7Kq",
        "outputId": "74259469-6fc4-488b-abee-27ce0ef47183"
      },
      "source": [
        "%ls"
      ],
      "execution_count": 6,
      "outputs": [
        {
          "output_type": "stream",
          "text": [
            "config.yaml  \u001b[0m\u001b[01;34mmodels\u001b[0m/    README.md         tokenizer-yelp.py  util.py\n",
            "LICENSE      models.py  requirements.txt  train.py\n"
          ],
          "name": "stdout"
        }
      ]
    },
    {
      "cell_type": "code",
      "metadata": {
        "colab": {
          "base_uri": "https://localhost:8080/"
        },
        "id": "koVPR1kxZlR5",
        "outputId": "aae0760f-57e4-40f2-d189-8524274603f7"
      },
      "source": [
        "!pip install hydra-core"
      ],
      "execution_count": 7,
      "outputs": [
        {
          "output_type": "stream",
          "text": [
            "Collecting hydra-core\n",
            "\u001b[?25l  Downloading https://files.pythonhosted.org/packages/52/e3/fbd70dd0d3ce4d1d75c22d56c0c9f895cfa7ed6587a9ffb821d6812d6a60/hydra_core-1.0.6-py3-none-any.whl (123kB)\n",
            "\u001b[K     |████████████████████████████████| 133kB 15.9MB/s \n",
            "\u001b[?25hCollecting antlr4-python3-runtime==4.8\n",
            "\u001b[?25l  Downloading https://files.pythonhosted.org/packages/56/02/789a0bddf9c9b31b14c3e79ec22b9656185a803dc31c15f006f9855ece0d/antlr4-python3-runtime-4.8.tar.gz (112kB)\n",
            "\u001b[K     |████████████████████████████████| 112kB 27.4MB/s \n",
            "\u001b[?25hRequirement already satisfied: importlib-resources; python_version < \"3.9\" in /usr/local/lib/python3.6/dist-packages (from hydra-core) (5.1.0)\n",
            "Collecting omegaconf<2.1,>=2.0.5\n",
            "  Downloading https://files.pythonhosted.org/packages/d0/eb/9d63ce09dd8aa85767c65668d5414958ea29648a0eec80a4a7d311ec2684/omegaconf-2.0.6-py3-none-any.whl\n",
            "Requirement already satisfied: zipp>=0.4; python_version < \"3.8\" in /usr/local/lib/python3.6/dist-packages (from importlib-resources; python_version < \"3.9\"->hydra-core) (3.4.0)\n",
            "Requirement already satisfied: dataclasses; python_version == \"3.6\" in /usr/local/lib/python3.6/dist-packages (from omegaconf<2.1,>=2.0.5->hydra-core) (0.8)\n",
            "Collecting PyYAML>=5.1.*\n",
            "\u001b[?25l  Downloading https://files.pythonhosted.org/packages/7a/5b/bc0b5ab38247bba158504a410112b6c03f153c652734ece1849749e5f518/PyYAML-5.4.1-cp36-cp36m-manylinux1_x86_64.whl (640kB)\n",
            "\u001b[K     |████████████████████████████████| 645kB 51.0MB/s \n",
            "\u001b[?25hRequirement already satisfied: typing-extensions in /usr/local/lib/python3.6/dist-packages (from omegaconf<2.1,>=2.0.5->hydra-core) (3.7.4.3)\n",
            "Building wheels for collected packages: antlr4-python3-runtime\n",
            "  Building wheel for antlr4-python3-runtime (setup.py) ... \u001b[?25l\u001b[?25hdone\n",
            "  Created wheel for antlr4-python3-runtime: filename=antlr4_python3_runtime-4.8-cp36-none-any.whl size=141231 sha256=c8d1607dd482d8fb6657c565f4a9d431c00485d2fdfbe6078365aeaa9854a510\n",
            "  Stored in directory: /root/.cache/pip/wheels/e3/e2/fa/b78480b448b8579ddf393bebd3f47ee23aa84c89b6a78285c8\n",
            "Successfully built antlr4-python3-runtime\n",
            "Installing collected packages: antlr4-python3-runtime, PyYAML, omegaconf, hydra-core\n",
            "  Found existing installation: PyYAML 3.13\n",
            "    Uninstalling PyYAML-3.13:\n",
            "      Successfully uninstalled PyYAML-3.13\n",
            "Successfully installed PyYAML-5.4.1 antlr4-python3-runtime-4.8 hydra-core-1.0.6 omegaconf-2.0.6\n"
          ],
          "name": "stdout"
        }
      ]
    },
    {
      "cell_type": "code",
      "metadata": {
        "colab": {
          "base_uri": "https://localhost:8080/"
        },
        "id": "DDZAL29Ca4pT",
        "outputId": "ed21d2bb-f2a8-4b66-8c8f-d296f101a71b"
      },
      "source": [
        "!python train.py data.train_data=\"/content/small/train_tok.json\" data.val_data=\"/content/small/val_tok.json\" data.test_data=\"/content/small/test_tok.json\" data.dictionary=\"/content/small/dict_review_short.json\" data.word_vector=\"content/glove.6B.200d.txt.pt\" data.save=\"/content/self-attentive-sentence-embedding/models/model-small-6B.pt\""
      ],
      "execution_count": 8,
      "outputs": [
        {
          "output_type": "stream",
          "text": [
            "Begin to load the dictionary.\n",
            "Begin to load data.\n",
            "| epoch   0 |    20/  160 batches | ms/batch 274.17 | loss 3.5488 | pure loss 1.4803\n",
            "| epoch   0 |    40/  160 batches | ms/batch 248.49 | loss 3.3149 | pure loss 1.3460\n",
            "| epoch   0 |    60/  160 batches | ms/batch 251.81 | loss 3.2593 | pure loss 1.2887\n",
            "| epoch   0 |    80/  160 batches | ms/batch 256.09 | loss 3.0574 | pure loss 1.1386\n",
            "| epoch   0 |   100/  160 batches | ms/batch 257.87 | loss 3.0006 | pure loss 1.2198\n",
            "| epoch   0 |   120/  160 batches | ms/batch 240.43 | loss 2.8931 | pure loss 1.1670\n",
            "| epoch   0 |   140/  160 batches | ms/batch 246.02 | loss 2.7978 | pure loss 1.1739\n",
            "-----------------------------------------------------------------------------------------\n",
            "| evaluation | time:  1.59s | valid loss (pure) 1.0796 | Acc   0.5790\n",
            "-----------------------------------------------------------------------------------------\n",
            "| epoch   1 |    20/  160 batches | ms/batch 274.24 | loss 2.4818 | pure loss 1.1945\n",
            "| epoch   1 |    40/  160 batches | ms/batch 259.36 | loss 2.0928 | pure loss 1.2225\n",
            "| epoch   1 |    60/  160 batches | ms/batch 260.54 | loss 1.7968 | pure loss 1.2006\n",
            "| epoch   1 |    80/  160 batches | ms/batch 264.61 | loss 1.6508 | pure loss 1.1288\n",
            "| epoch   1 |   100/  160 batches | ms/batch 266.63 | loss 1.6375 | pure loss 1.1865\n",
            "| epoch   1 |   120/  160 batches | ms/batch 246.06 | loss 1.5733 | pure loss 1.1801\n",
            "| epoch   1 |   140/  160 batches | ms/batch 253.37 | loss 1.5652 | pure loss 1.1920\n",
            "-----------------------------------------------------------------------------------------\n",
            "| evaluation | time:  1.64s | valid loss (pure) 1.0902 | Acc   0.5620\n",
            "-----------------------------------------------------------------------------------------\n",
            "| epoch   2 |    20/  160 batches | ms/batch 281.24 | loss 1.5477 | pure loss 1.1938\n",
            "| epoch   2 |    40/  160 batches | ms/batch 264.75 | loss 1.4435 | pure loss 1.1284\n",
            "| epoch   2 |    60/  160 batches | ms/batch 265.98 | loss 1.4359 | pure loss 1.1313\n",
            "| epoch   2 |    80/  160 batches | ms/batch 271.40 | loss 1.3788 | pure loss 1.0757\n",
            "| epoch   2 |   100/  160 batches | ms/batch 272.82 | loss 1.4644 | pure loss 1.1575\n",
            "| epoch   2 |   120/  160 batches | ms/batch 253.38 | loss 1.3849 | pure loss 1.0737\n",
            "| epoch   2 |   140/  160 batches | ms/batch 258.99 | loss 1.3801 | pure loss 1.0881\n",
            "-----------------------------------------------------------------------------------------\n",
            "| evaluation | time:  1.69s | valid loss (pure) 1.0158 | Acc   0.6000\n",
            "-----------------------------------------------------------------------------------------\n",
            "| epoch   3 |    20/  160 batches | ms/batch 287.65 | loss 1.4002 | pure loss 1.1023\n",
            "| epoch   3 |    40/  160 batches | ms/batch 271.12 | loss 1.3720 | pure loss 1.1058\n",
            "| epoch   3 |    60/  160 batches | ms/batch 272.82 | loss 1.3815 | pure loss 1.1005\n",
            "| epoch   3 |    80/  160 batches | ms/batch 276.20 | loss 1.2918 | pure loss 1.0123\n",
            "| epoch   3 |   100/  160 batches | ms/batch 278.17 | loss 1.3335 | pure loss 1.0789\n",
            "| epoch   3 |   120/  160 batches | ms/batch 257.67 | loss 1.2984 | pure loss 1.0335\n",
            "| epoch   3 |   140/  160 batches | ms/batch 263.84 | loss 1.3069 | pure loss 1.0354\n",
            "-----------------------------------------------------------------------------------------\n",
            "| evaluation | time:  1.72s | valid loss (pure) 0.9872 | Acc   0.5980\n",
            "-----------------------------------------------------------------------------------------\n",
            "| epoch   4 |    20/  160 batches | ms/batch 291.03 | loss 1.3648 | pure loss 1.0743\n",
            "| epoch   4 |    40/  160 batches | ms/batch 275.51 | loss 1.3465 | pure loss 1.0888\n",
            "| epoch   4 |    60/  160 batches | ms/batch 276.05 | loss 1.2901 | pure loss 1.0346\n",
            "| epoch   4 |    80/  160 batches | ms/batch 279.84 | loss 1.2146 | pure loss 0.9672\n",
            "| epoch   4 |   100/  160 batches | ms/batch 281.82 | loss 1.2726 | pure loss 1.0457\n",
            "| epoch   4 |   120/  160 batches | ms/batch 261.78 | loss 1.2788 | pure loss 1.0192\n",
            "| epoch   4 |   140/  160 batches | ms/batch 267.83 | loss 1.2836 | pure loss 1.0397\n",
            "-----------------------------------------------------------------------------------------\n",
            "| evaluation | time:  1.74s | valid loss (pure) 0.9734 | Acc   0.6040\n",
            "-----------------------------------------------------------------------------------------\n"
          ],
          "name": "stdout"
        }
      ]
    },
    {
      "cell_type": "code",
      "metadata": {
        "id": "pyNG12qOgCt-"
      },
      "source": [
        ""
      ],
      "execution_count": 8,
      "outputs": []
    }
  ]
}